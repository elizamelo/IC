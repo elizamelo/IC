{
 "cells": [
  {
   "cell_type": "code",
   "execution_count": 1,
   "id": "0f105e38",
   "metadata": {},
   "outputs": [
    {
     "name": "stdout",
     "output_type": "stream",
     "text": [
      "Welcome to JupyROOT 6.18/00\n"
     ]
    }
   ],
   "source": [
    "import ROOT\n",
    "#import numpy as np"
   ]
  },
  {
   "cell_type": "code",
   "execution_count": 2,
   "id": "cd0f65fb",
   "metadata": {},
   "outputs": [],
   "source": [
    "#Double_t RBWGaus(Double_t *x, Double_t *par) { #preservar o que vem depois do Double_t\n",
    "\n",
    "      #Fit parameters:\n",
    "      #par[0]=Width (scale) Breit-Wigner\n",
    "      #par[1]=Most Probable (MP, location) Breit mean\n",
    "      #par[2]=Total area (integral -inf to inf, normalization constant)\n",
    "      #par[3]=Width (sigma) of convoluted Gaussian function\n",
    "\n",
    "def RBWGaus(x, par, xx, fbw):\n",
    "\n",
    "    np = 100 # #number of convolution steps\n",
    "    sc = 4 #convolution extends to +-sc Gaussian sigmas\n",
    "\n",
    "          #Range of convolution integral\n",
    "    xmin = x[0] - sc * par[3]\n",
    "    xmax = x[0] + sc * par[3]\n",
    "    step = (xmax-xmin) / np\n",
    "    \n",
    "    # Convolution integral of Breit-Wigner and Gaussian by sum\n",
    "    sum = 0.0\n",
    "    for i in range (1, np/2):\n",
    "     xx = xmin + (i-.5) * step\n",
    "     fbw = ROOT.BreitWigner(xx,par[1],par[0])\n",
    "     sum += fbw * ROOT.Gaus(x[0],xx,par[3])\n",
    "\n",
    "     xx = xmax - (i-.5) * step\n",
    "     fbw = ROOT.BreitWigner(xx,par[1],par[0])\n",
    "     sum += fbw * ROOT.Gaus(x[0],xx,par[3])\n",
    "    return (par[2] * step * sum * (1./sqrt(2*ROOT.Pi())) / par[3])"
   ]
  },
  {
   "cell_type": "code",
   "execution_count": 3,
   "id": "9185cc2e",
   "metadata": {},
   "outputs": [
    {
     "name": "stdout",
     "output_type": "stream",
     "text": [
      "1921\n"
     ]
    }
   ],
   "source": [
    "\n",
    "#def Zmass_Zcharge(Zmass, Zcharge):\n",
    "    c = ROOT.TCanvas(\"c\", \"c\", 600, 600)\n",
    "    f = ROOT.TFile.Open(\"Zbosons.root\")\n",
    "    tr = f.Get(\"ztree\")\n",
    "    tr.Show (0)\n",
    "    N = tr.GetEntries ()\n",
    "    print (N)\n",
    "    hist = ROOT.TH1F(\"hmass\",\"\", 60,60,120)\n",
    "\n",
    "    for j in range(0, tr.GetEntries()):\n",
    "\n",
    "        tr.GetEntry(j)\n",
    "\n",
    "        if(tr.Zcharge != 0):\n",
    "            continue\n",
    "\n",
    "        hist.Fill(tr.Zmass)\n",
    "        hist.Draw()\n",
    "        c.Draw()\n",
    "        \n",
    "        "
   ]
  },
  {
   "cell_type": "code",
   "execution_count": 4,
   "id": "c30c6912",
   "metadata": {},
   "outputs": [
    {
     "data": {
      "image/png": "[encoded data removed]",
      "text/plain": [
       "<IPython.core.display.Image object>"
      ]
     },
     "metadata": {},
     "output_type": "display_data"
    }
   ],
   "source": [
    "c1 = ROOT.TCanvas(\"c1\",\"Dimuon mass\", 600, 600)\n",
    "\n",
    "c1.SetTopMargin(0.05)\n",
    "c1.SetRightMargin(0.05)\n",
    "c1.SetBottomMargin(0.12)\n",
    "c1.SetLeftMargin(0.13)\n",
    "c1.SetTickx(1)\n",
    "c1.SetTicky(1)\n",
    "\n",
    "\n",
    "\n",
    "hist.SetMarkerStyle(20)\n",
    "hist.SetMarkerColor(ROOT.kBlack)\n",
    "hist.SetLineColor(ROOT.kBlack)\n",
    "hist.GetXaxis().SetTitle(\"Mass (GeV)\")\n",
    "hist.GetYaxis().SetTitle(\"Counts\")\n",
    "hist.GetXaxis().SetTitleSize(0.05)\n",
    "hist.GetYaxis().SetTitleSize(0.05)  \n",
    "hist.GetYaxis().SetTitleOffset(1.2)\n",
    "   #gStyle.SetOptStat(0) ---->>>> o que era pra ter aqui??\n",
    "#c1.Update()\n",
    "\n",
    "hist.Draw()\n",
    "c.Draw()"
   ]
  },
  {
   "cell_type": "code",
   "execution_count": 5,
   "id": "120b9863",
   "metadata": {},
   "outputs": [
    {
     "name": "stdout",
     "output_type": "stream",
     "text": [
      " FCN=260.347 FROM MIGRAD    STATUS=CONVERGED      94 CALLS          95 TOTAL\n",
      "                     EDM=2.78641e-08    STRATEGY= 1  ERROR MATRIX UNCERTAINTY   1.6 per cent\n",
      "  EXT PARAMETER                                   STEP         FIRST   \n",
      "  NO.   NAME      VALUE            ERROR          SIZE      DERIVATIVE \n",
      "   1  Constant     2.34140e+02   9.00129e+00   1.25548e-02  -5.31676e-05\n",
      "   2  Mean         9.07898e+01   6.94861e-02   1.73710e-04   4.49114e-05\n",
      "   3  Sigma        2.82951e+00   8.36473e-02  -9.81739e-06  -6.67442e-02\n"
     ]
    },
    {
     "data": {
      "image/png": "[encoded data removed]",
      "text/plain": [
       "<IPython.core.display.Image object>"
      ]
     },
     "metadata": {},
     "output_type": "display_data"
    }
   ],
   "source": [
    " \n",
    "c2 = ROOT.TCanvas()\n",
    "hist.Draw()\n",
    "#FitResultPtr \n",
    "ff= hist.Fit(\"gaus\",\"S\")   #itResultPtr\n",
    "c2.Draw()\n"
   ]
  },
  {
   "cell_type": "code",
   "execution_count": 6,
   "id": "0ab89f1b",
   "metadata": {},
   "outputs": [
    {
     "name": "stdout",
     "output_type": "stream",
     "text": [
      "90.78983263672\n",
      "2.829512578221559\n",
      "The final Chi2 value was 260.35 and the number of free parameters was 3\n"
     ]
    }
   ],
   "source": [
    "ftr = ff.Get ()\n",
    "central_value = ff.Parameter (1)\n",
    "print(central_value)\n",
    "width = ff.Parameter (2)\n",
    "print(width)\n",
    "chi2_nparams = (ff.Chi2(), ff.NFreeParameters())\n",
    "print (\"The final Chi2 value was %.2f and the number of free parameters was %d\" %chi2_nparams)"
   ]
  },
  {
   "cell_type": "code",
   "execution_count": null,
   "id": "18089842",
   "metadata": {},
   "outputs": [],
   "source": []
  }
 ],
 "metadata": {
  "kernelspec": {
   "display_name": "Python 3",
   "language": "python",
   "name": "python3"
  },
  "language_info": {
   "codemirror_mode": {
    "name": "ipython",
    "version": 3
   },
   "file_extension": ".py",
   "mimetype": "text/x-python",
   "name": "python",
   "nbconvert_exporter": "python",
   "pygments_lexer": "ipython3",
   "version": "3.6.5"
  }
 },
 "nbformat": 4,
 "nbformat_minor": 5
}
